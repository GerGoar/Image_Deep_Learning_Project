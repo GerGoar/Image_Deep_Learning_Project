{
 "cells": [
  {
   "cell_type": "code",
   "execution_count": 4,
   "metadata": {},
   "outputs": [
    {
     "name": "stdout",
     "output_type": "stream",
     "text": [
      "✅ Extracted 907 frames from video 'Ger_1.mov' for Ger.\n",
      "✅ Extracted 909 frames from video 'Ger_2.mov' for Ger.\n",
      "✅ Extracted 926 frames from video 'Ger_3.mov' for Ger.\n",
      "✅ Extracted 850 frames from video 'Timo_1.mov' for Timo.\n",
      "✅ Extracted 983 frames from video 'Timo_2.mov' for Timo.\n",
      "✅ Extracted 941 frames from video 'Timo_3.mov' for Timo.\n",
      "✅ Extracted 911 frames from video 'Oliver_3.mov' for Oliver.\n",
      "✅ Extracted 907 frames from video 'Oliver_2.mov' for Oliver.\n",
      "✅ Extracted 905 frames from video 'Oliver_1.mov' for Oliver.\n",
      "All frames have been extracted, rotated, resized, and saved!\n"
     ]
    }
   ],
   "source": [
    "import cv2\n",
    "import os\n",
    "\n",
    "\n",
    "# Get the directory where the current script is located\n",
    "base_dir = os.getcwd()\n",
    "\n",
    "# Define relative paths based on the script's location\n",
    "videos_folder = os.path.join(base_dir, \"Videos\")\n",
    "output_folder = os.path.join(base_dir, \"Data Set\")\n",
    "\n",
    "\n",
    "# Define frame extraction parameters\n",
    "frame_rate = 2  # Extract 1 frame every 1 frame\n",
    "target_size = (128, 128)  # Resize target (128x128)\n",
    "\n",
    "# Loop through each person (folder: Ger, Timo, Oliver)\n",
    "for person in [\"Ger\", \"Timo\", \"Oliver\"]:\n",
    "    person_video_folder = os.path.join(videos_folder, person)\n",
    "    person_output_folder = os.path.join(output_folder, person)\n",
    "    \n",
    "    # Create output folder if it doesn't exist\n",
    "    os.makedirs(person_output_folder, exist_ok=True)\n",
    "\n",
    "    # Loop through all video files for this person\n",
    "    for video_file in os.listdir(person_video_folder):\n",
    "        if video_file.endswith(\".mov\") or video_file.endswith(\".mp4\"):\n",
    "            video_path = os.path.join(person_video_folder, video_file)\n",
    "            cap = cv2.VideoCapture(video_path)\n",
    "\n",
    "            frame_count = 0\n",
    "            saved_count = 0\n",
    "\n",
    "            while cap.isOpened():\n",
    "                ret, frame = cap.read()\n",
    "                if not ret:\n",
    "                    break\n",
    "\n",
    "                # Rotate the image 90 degrees clockwise\n",
    "                frame_rotated = cv2.rotate(frame, cv2.ROTATE_90_CLOCKWISE)\n",
    "\n",
    "                # Resize the frame to 128x128\n",
    "                frame_resized = cv2.resize(frame_rotated, target_size, interpolation=cv2.INTER_AREA)\n",
    "\n",
    "                # Save the frame as a JPEG image with a unique filename\n",
    "                if frame_count % frame_rate == 0:  # Save every nth frame\n",
    "                    # Add the video name to the filename to avoid overwriting\n",
    "                    frame_filename = f\"{video_file[:-4]}_frame_{saved_count}.jpg\"  # Remove .mov or .mp4 extension\n",
    "                    frame_filepath = os.path.join(person_output_folder, frame_filename)\n",
    "                    cv2.imwrite(frame_filepath, frame_resized)\n",
    "                    saved_count += 1\n",
    "\n",
    "                frame_count += 1\n",
    "\n",
    "            cap.release()\n",
    "            print(f\"✅ Extracted {saved_count} frames from video '{video_file}' for {person}.\")\n",
    "\n",
    "print(\"All frames have been extracted, rotated, resized, and saved!\")\n"
   ]
  }
 ],
 "metadata": {
  "kernelspec": {
   "display_name": "3.11.9",
   "language": "python",
   "name": "python3"
  },
  "language_info": {
   "codemirror_mode": {
    "name": "ipython",
    "version": 3
   },
   "file_extension": ".py",
   "mimetype": "text/x-python",
   "name": "python",
   "nbconvert_exporter": "python",
   "pygments_lexer": "ipython3",
   "version": "3.11.9"
  }
 },
 "nbformat": 4,
 "nbformat_minor": 2
}
